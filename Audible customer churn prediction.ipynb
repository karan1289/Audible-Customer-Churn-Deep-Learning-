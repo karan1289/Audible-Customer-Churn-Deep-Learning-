{
 "cells": [
  {
   "cell_type": "code",
   "execution_count": 1,
   "metadata": {},
   "outputs": [],
   "source": [
    "import pandas as pd\n",
    "import numpy as np\n",
    "import matplotlib.pyplot as plt\n",
    "import seaborn as sns\n",
    "sns.set_style('whitegrid')\n",
    "sns.set_palette('Purples')"
   ]
  },
  {
   "cell_type": "code",
   "execution_count": 2,
   "metadata": {},
   "outputs": [],
   "source": [
    "import tensorflow as tf"
   ]
  },
  {
   "cell_type": "code",
   "execution_count": 3,
   "metadata": {},
   "outputs": [
    {
     "data": {
      "text/plain": [
       "array([[2.4432e+04, 2.1600e+03, 2.1600e+03, ..., 0.0000e+00, 0.0000e+00,\n",
       "        2.0600e+02],\n",
       "       [3.2104e+04, 2.1600e+03, 2.1600e+03, ..., 2.5920e+02, 0.0000e+00,\n",
       "        2.1200e+02],\n",
       "       [2.6469e+04, 5.4000e+02, 5.4000e+02, ..., 0.0000e+00, 0.0000e+00,\n",
       "        0.0000e+00],\n",
       "       ...,\n",
       "       [3.1990e+04, 2.1600e+03, 2.1600e+03, ..., 2.5920e+02, 0.0000e+00,\n",
       "        2.9000e+01],\n",
       "       [1.9677e+04, 1.6200e+03, 1.6200e+03, ..., 6.4800e+01, 0.0000e+00,\n",
       "        1.8100e+02],\n",
       "       [2.1505e+04, 2.1600e+03, 2.1600e+03, ..., 5.6700e+02, 2.0000e+00,\n",
       "        1.2700e+02]])"
      ]
     },
     "execution_count": 3,
     "metadata": {},
     "output_type": "execute_result"
    }
   ],
   "source": [
    "npz=np.load('Audiobooks_train_data1.npz')\n",
    "train_input=npz['inputs'].astype(np.float)\n",
    "train_target=npz['target'].astype(np.int)\n",
    "train_input"
   ]
  },
  {
   "cell_type": "code",
   "execution_count": 4,
   "metadata": {},
   "outputs": [],
   "source": [
    "npv=np.load('Audiobooks_valid_data1.npz')\n",
    "valid_input=npv['inputs'].astype(np.float)\n",
    "valid_target=npv['target'].astype(np.int)"
   ]
  },
  {
   "cell_type": "code",
   "execution_count": 5,
   "metadata": {},
   "outputs": [],
   "source": [
    "npx=np.load('Audiobooks_test_data1.npz')\n",
    "test_input=npz['inputs'].astype(np.float)\n",
    "test_target=npz['target'].astype(np.int)"
   ]
  },
  {
   "cell_type": "code",
   "execution_count": 6,
   "metadata": {},
   "outputs": [
    {
     "name": "stdout",
     "output_type": "stream",
     "text": [
      "Epoch 1/100\n",
      "36/36 - 2s - loss: 54.7947 - accuracy: 0.6452 - val_loss: 52.3318 - val_accuracy: 0.5817\n",
      "Epoch 2/100\n",
      "36/36 - 0s - loss: 15.9768 - accuracy: 0.7863 - val_loss: 6.9830 - val_accuracy: 0.8031\n",
      "Epoch 3/100\n",
      "36/36 - 1s - loss: 9.4015 - accuracy: 0.7879 - val_loss: 10.4039 - val_accuracy: 0.6980\n",
      "Epoch 4/100\n",
      "36/36 - 0s - loss: 8.1038 - accuracy: 0.8248 - val_loss: 4.4423 - val_accuracy: 0.9105\n",
      "Epoch 5/100\n",
      "36/36 - 1s - loss: 5.1656 - accuracy: 0.8516 - val_loss: 4.0003 - val_accuracy: 0.7987\n",
      "Epoch 6/100\n",
      "36/36 - 1s - loss: 4.2232 - accuracy: 0.8511 - val_loss: 2.5491 - val_accuracy: 0.8792\n",
      "Epoch 7/100\n",
      "36/36 - 0s - loss: 6.0785 - accuracy: 0.8284 - val_loss: 3.1612 - val_accuracy: 0.9172\n",
      "Epoch 8/100\n",
      "36/36 - 0s - loss: 10.0981 - accuracy: 0.7985 - val_loss: 4.9384 - val_accuracy: 0.9217\n"
     ]
    },
    {
     "data": {
      "text/plain": [
       "<tensorflow.python.keras.callbacks.History at 0x90b0059448>"
      ]
     },
     "execution_count": 6,
     "metadata": {},
     "output_type": "execute_result"
    }
   ],
   "source": [
    "input_size=10\n",
    "output_size=2\n",
    "hidden_layer_size=100\n",
    "\n",
    "model=tf.keras.Sequential([\n",
    "    tf.keras.layers.Dense(hidden_layer_size,activation='relu'),\n",
    "    tf.keras.layers.Dense(hidden_layer_size,activation='relu'),\n",
    "     tf.keras.layers.Dense(hidden_layer_size,activation='relu'),\n",
    "    tf.keras.layers.Dense(hidden_layer_size,activation='softmax')\n",
    "])\n",
    "\n",
    "model.compile(optimizer='adam',loss='sparse_categorical_crossentropy',metrics=['accuracy'])\n",
    "\n",
    "batch_size=100\n",
    "max_epoch=100\n",
    "early_stopping=tf.keras.callbacks.EarlyStopping(patience=2)\n",
    "model.fit(train_input,\n",
    "          train_target,\n",
    "          batch_size=batch_size,\n",
    "          epochs=max_epoch,\n",
    "          callbacks=[early_stopping],\n",
    "          validation_data=(valid_input,valid_target),\n",
    "          verbose=2\n",
    ")"
   ]
  },
  {
   "cell_type": "code",
   "execution_count": 7,
   "metadata": {},
   "outputs": [
    {
     "name": "stdout",
     "output_type": "stream",
     "text": [
      "112/112 [==============================] - 1s 6ms/step - loss: 5.0390 - accuracy: 0.9081\n"
     ]
    }
   ],
   "source": [
    "test_loss,test_accuracy=model.evaluate(test_input,test_target)"
   ]
  },
  {
   "cell_type": "code",
   "execution_count": 8,
   "metadata": {
    "scrolled": true
   },
   "outputs": [
    {
     "name": "stdout",
     "output_type": "stream",
     "text": [
      "WARNING:tensorflow:From <ipython-input-8-597cf83c1325>:1: Sequential.predict_classes (from tensorflow.python.keras.engine.sequential) is deprecated and will be removed after 2021-01-01.\n",
      "Instructions for updating:\n",
      "Please use instead:* `np.argmax(model.predict(x), axis=-1)`,   if your model does multi-class classification   (e.g. if it uses a `softmax` last-layer activation).* `(model.predict(x) > 0.5).astype(\"int32\")`,   if your model does binary classification   (e.g. if it uses a `sigmoid` last-layer activation).\n"
     ]
    }
   ],
   "source": [
    "predict=model.predict_classes(test_input)"
   ]
  },
  {
   "cell_type": "code",
   "execution_count": 9,
   "metadata": {},
   "outputs": [
    {
     "data": {
      "text/plain": [
       "array([1, 1, 1, ..., 1, 1, 0], dtype=int64)"
      ]
     },
     "execution_count": 9,
     "metadata": {},
     "output_type": "execute_result"
    }
   ],
   "source": [
    "predict"
   ]
  },
  {
   "cell_type": "code",
   "execution_count": 10,
   "metadata": {},
   "outputs": [],
   "source": [
    "from sklearn.metrics import confusion_matrix"
   ]
  },
  {
   "cell_type": "code",
   "execution_count": 11,
   "metadata": {},
   "outputs": [],
   "source": [
    "cm=confusion_matrix(predict,test_target)"
   ]
  },
  {
   "cell_type": "code",
   "execution_count": 12,
   "metadata": {},
   "outputs": [],
   "source": [
    "from sklearn.metrics import precision_score\n",
    "from sklearn.metrics import recall_score\n",
    "from sklearn.metrics import f1_score"
   ]
  },
  {
   "cell_type": "code",
   "execution_count": 13,
   "metadata": {},
   "outputs": [],
   "source": [
    "def scores(predict,test_target):\n",
    "    p=precision_score(predict,test_target)\n",
    "    r=recall_score(predict,test_target)\n",
    "    f=f1_score(predict,test_target)\n",
    "    return p,r,f"
   ]
  },
  {
   "cell_type": "code",
   "execution_count": 14,
   "metadata": {},
   "outputs": [
    {
     "data": {
      "text/plain": [
       "(0.8708425720620843, 0.9424115176964607, 0.9052146355517142)"
      ]
     },
     "execution_count": 14,
     "metadata": {},
     "output_type": "execute_result"
    }
   ],
   "source": [
    "scores(predict,test_target)"
   ]
  },
  {
   "cell_type": "code",
   "execution_count": 15,
   "metadata": {},
   "outputs": [],
   "source": [
    "from sklearn.metrics import precision_recall_curve"
   ]
  },
  {
   "cell_type": "code",
   "execution_count": 16,
   "metadata": {},
   "outputs": [],
   "source": [
    "precision,recall,threshold=precision_recall_curve(predict,test_target)"
   ]
  },
  {
   "cell_type": "code",
   "execution_count": 17,
   "metadata": {},
   "outputs": [],
   "source": [
    "def plot_precision_recall_curve(precision,recall,threshold):\n",
    "    plt.plot(threshold,precision[:-1],'g-',label='Precision')\n",
    "    plt.plot(threshold,recall[:-1],'b--',label='Recall')\n",
    "    plt.xlabel('Thresholds')\n",
    "    plt.title('Precision Recall Curve')"
   ]
  },
  {
   "cell_type": "code",
   "execution_count": 18,
   "metadata": {},
   "outputs": [
    {
     "data": {
      "image/png": "[encoded data removed]",
      "text/plain": [
       "<Figure size 432x288 with 1 Axes>"
      ]
     },
     "metadata": {},
     "output_type": "display_data"
    }
   ],
   "source": [
    "plot_precision_recall_curve(precision,recall,threshold)\n",
    "plt.show()"
   ]
  },
  {
   "cell_type": "code",
   "execution_count": 19,
   "metadata": {},
   "outputs": [
    {
     "data": {
      "text/plain": [
       "array([[1679,   96],\n",
       "       [ 233, 1571]], dtype=int64)"
      ]
     },
     "execution_count": 19,
     "metadata": {},
     "output_type": "execute_result"
    }
   ],
   "source": [
    "from sklearn.metrics import confusion_matrix\n",
    "cm=confusion_matrix(test_target,predict)\n",
    "cm"
   ]
  },
  {
   "cell_type": "code",
   "execution_count": null,
   "metadata": {},
   "outputs": [],
   "source": []
  }
 ],
 "metadata": {
  "kernelspec": {
   "display_name": "Python 3",
   "language": "python",
   "name": "python3"
  },
  "language_info": {
   "codemirror_mode": {
    "name": "ipython",
    "version": 3
   },
   "file_extension": ".py",
   "mimetype": "text/x-python",
   "name": "python",
   "nbconvert_exporter": "python",
   "pygments_lexer": "ipython3",
   "version": "3.7.6"
  }
 },
 "nbformat": 4,
 "nbformat_minor": 4
}
