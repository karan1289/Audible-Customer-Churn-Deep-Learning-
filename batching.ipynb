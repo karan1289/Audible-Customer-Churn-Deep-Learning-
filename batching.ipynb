{
 "cells": [
  {
   "cell_type": "code",
   "execution_count": 8,
   "metadata": {},
   "outputs": [],
   "source": [
    "def batch_data(inputs,targets,per1,per2):\n",
    "    import numpy as np\n",
    "    global train_input\n",
    "    global train_target\n",
    "    global valid_input\n",
    "    global valid_target\n",
    "    global test_input\n",
    "    global test_target\n",
    "    count=inputs.shape[0]\n",
    "    train_count=int(per1*count)\n",
    "    valid_count=int(per2*count)\n",
    "    test_count=count-train_count-valid_count\n",
    "    train_input=inputs[:train_count]\n",
    "    train_target=targets[:train_count]\n",
    "    valid_input=inputs[train_count:train_count+valid_count]\n",
    "    valid_target=targets[train_count:train_count+valid_count]\n",
    "    test_input=inputs[train_count+valid_count:]\n",
    "    test_target=targets[train_count+valid_count:]\n",
    "    return train_input,train_target,valid_input,valid_target,test_input,test_target\n",
    "   \n",
    "   \n",
    "    "
   ]
  },
  {
   "cell_type": "code",
   "execution_count": null,
   "metadata": {},
   "outputs": [],
   "source": []
  }
 ],
 "metadata": {
  "kernelspec": {
   "display_name": "Python 3",
   "language": "python",
   "name": "python3"
  },
  "language_info": {
   "codemirror_mode": {
    "name": "ipython",
    "version": 3
   },
   "file_extension": ".py",
   "mimetype": "text/x-python",
   "name": "python",
   "nbconvert_exporter": "python",
   "pygments_lexer": "ipython3",
   "version": "3.7.6"
  }
 },
 "nbformat": 4,
 "nbformat_minor": 4
}
